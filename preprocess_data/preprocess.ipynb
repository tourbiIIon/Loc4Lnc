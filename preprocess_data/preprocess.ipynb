{
 "cells": [
  {
   "cell_type": "markdown",
   "metadata": {},
   "source": [
    "subcellular loc data"
   ]
  },
  {
   "cell_type": "code",
   "execution_count": 25,
   "metadata": {
    "ExecuteTime": {
     "end_time": "2024-10-08T21:41:42.354014Z",
     "start_time": "2024-10-08T21:41:40.662366Z"
    }
   },
   "outputs": [
    {
     "data": {
      "text/plain": "           Gene_ID RNA_category       Species SubCellular_Localization\n0       NCBI:20983         mRNA  Mus musculus                  Nucleus\n1       NCBI:20650         mRNA  Mus musculus                  Nucleus\n2       NCBI:20648         mRNA  Mus musculus                Cytoplasm\n3       NCBI:20873         mRNA  Mus musculus                  Nucleus\n4       NCBI:17764         mRNA  Mus musculus                Cytoplasm\n...            ...          ...           ...                      ...\n213424         NaN        Y RNA  Homo sapiens             Microvesicle\n213425         NaN        Y RNA  Homo sapiens             Microvesicle\n213426         NaN        Y RNA  Homo sapiens             Microvesicle\n213427         NaN        Y RNA  Homo sapiens             Microvesicle\n213428         NaN        Y RNA  Homo sapiens             Microvesicle\n\n[213429 rows x 4 columns]",
      "text/html": "<div>\n<style scoped>\n    .dataframe tbody tr th:only-of-type {\n        vertical-align: middle;\n    }\n\n    .dataframe tbody tr th {\n        vertical-align: top;\n    }\n\n    .dataframe thead th {\n        text-align: right;\n    }\n</style>\n<table border=\"1\" class=\"dataframe\">\n  <thead>\n    <tr style=\"text-align: right;\">\n      <th></th>\n      <th>Gene_ID</th>\n      <th>RNA_category</th>\n      <th>Species</th>\n      <th>SubCellular_Localization</th>\n    </tr>\n  </thead>\n  <tbody>\n    <tr>\n      <th>0</th>\n      <td>NCBI:20983</td>\n      <td>mRNA</td>\n      <td>Mus musculus</td>\n      <td>Nucleus</td>\n    </tr>\n    <tr>\n      <th>1</th>\n      <td>NCBI:20650</td>\n      <td>mRNA</td>\n      <td>Mus musculus</td>\n      <td>Nucleus</td>\n    </tr>\n    <tr>\n      <th>2</th>\n      <td>NCBI:20648</td>\n      <td>mRNA</td>\n      <td>Mus musculus</td>\n      <td>Cytoplasm</td>\n    </tr>\n    <tr>\n      <th>3</th>\n      <td>NCBI:20873</td>\n      <td>mRNA</td>\n      <td>Mus musculus</td>\n      <td>Nucleus</td>\n    </tr>\n    <tr>\n      <th>4</th>\n      <td>NCBI:17764</td>\n      <td>mRNA</td>\n      <td>Mus musculus</td>\n      <td>Cytoplasm</td>\n    </tr>\n    <tr>\n      <th>...</th>\n      <td>...</td>\n      <td>...</td>\n      <td>...</td>\n      <td>...</td>\n    </tr>\n    <tr>\n      <th>213424</th>\n      <td>NaN</td>\n      <td>Y RNA</td>\n      <td>Homo sapiens</td>\n      <td>Microvesicle</td>\n    </tr>\n    <tr>\n      <th>213425</th>\n      <td>NaN</td>\n      <td>Y RNA</td>\n      <td>Homo sapiens</td>\n      <td>Microvesicle</td>\n    </tr>\n    <tr>\n      <th>213426</th>\n      <td>NaN</td>\n      <td>Y RNA</td>\n      <td>Homo sapiens</td>\n      <td>Microvesicle</td>\n    </tr>\n    <tr>\n      <th>213427</th>\n      <td>NaN</td>\n      <td>Y RNA</td>\n      <td>Homo sapiens</td>\n      <td>Microvesicle</td>\n    </tr>\n    <tr>\n      <th>213428</th>\n      <td>NaN</td>\n      <td>Y RNA</td>\n      <td>Homo sapiens</td>\n      <td>Microvesicle</td>\n    </tr>\n  </tbody>\n</table>\n<p>213429 rows × 4 columns</p>\n</div>"
     },
     "execution_count": 25,
     "metadata": {},
     "output_type": "execute_result"
    }
   ],
   "source": [
    "import pandas as pd \n",
    "import matplotlib.pyplot as plt\n",
    "from pylab import *\n",
    "df1 = pd.read_table(\"sequences_info/All RNA subcellular localization data.txt\", low_memory=False)\n",
    "df1.drop(['RNALocate_ID','Gene_Name', 'Gene_symbol','PMID', 'Description'],axis=1,inplace=True)\n",
    "df1[(df1['RNA_category']=='lncRNA') & (df1['Species']=='Homo sapiens')]\n",
    "df1"
   ]
  },
  {
   "cell_type": "markdown",
   "metadata": {},
   "source": [
    "lncRNA sequence"
   ]
  },
  {
   "cell_type": "code",
   "execution_count": 26,
   "metadata": {
    "ExecuteTime": {
     "end_time": "2024-10-08T21:41:49.498281Z",
     "start_time": "2024-10-08T21:41:42.357199Z"
    }
   },
   "outputs": [
    {
     "data": {
      "text/plain": "(133905, 2)"
     },
     "execution_count": 26,
     "metadata": {},
     "output_type": "execute_result"
    }
   ],
   "source": [
    "df2 = pd.read_table(\"sequences_info/human_RNA_sequence.txt\")\n",
    "df2.drop('Refseq_ID',axis=1,inplace=True)\n",
    "df2.shape"
   ]
  },
  {
   "cell_type": "markdown",
   "metadata": {},
   "source": [
    "merge"
   ]
  },
  {
   "cell_type": "code",
   "execution_count": 27,
   "metadata": {
    "ExecuteTime": {
     "end_time": "2024-10-08T21:41:49.841973Z",
     "start_time": "2024-10-08T21:41:49.501825Z"
    }
   },
   "outputs": [
    {
     "data": {
      "text/plain": "<bound method DataFrame.info of              Gene_ID RNA_category       Species SubCellular_Localization  \\\n0     NCBI:100462981       lncRNA  Homo sapiens                  Exosome   \n1         NCBI:10057       lncRNA  Homo sapiens              Nucleoplasm   \n2          NCBI:1031       lncRNA  Homo sapiens                  Cytosol   \n3          NCBI:2177       lncRNA  Homo sapiens                  Cytosol   \n4        NCBI:221178       lncRNA  Homo sapiens                  Nucleus   \n...              ...          ...           ...                      ...   \n3439      NCBI:94158       lncRNA  Homo sapiens                  Exosome   \n3440       NCBI:9597       lncRNA  Homo sapiens                  Exosome   \n3441      NCBI:96597       lncRNA  Homo sapiens                  Exosome   \n3442       NCBI:9808       lncRNA  Homo sapiens                  Exosome   \n3443       NCBI:9834       lncRNA  Homo sapiens                  Exosome   \n\n                                               Sequence  \n0     ACAACCTTAACCAAACCATTTACTCAAATAAAGTATAGGCGATAGA...  \n1     ATGCTCGGGAGCGTGGTTGAGCGGCTGGCGCGGTTGTCCTGGAGCA...  \n2     AGATTAACCATCCCAGTCCTTCTGTCAGTCTCCGATGCCATCATGC...  \n3     GGGAAAGTCGAAAACTACGGGCGGCGACGGCTTCTCGGAAGTAATT...  \n4     GGCGCGCACCCGGGACAGTTTCCAGTCGGCTTCTCCGTGACCTTCC...  \n...                                                 ...  \n3439  CGCTCAAGAGAGCAAGATGTTCTCGTGTTGCTTCTCCACTTTGAGA...  \n3440  TGATCTGAAAGGAATGGAAGCACAAAATGATGAATAAGGTATTTTT...  \n3441  GAAAACGAAGCCCCCTCCTGTATTGACAGCTGGGAATTGTGGAGTC...  \n3442  AATCATCTCATCTCAGATGCCTGGCAACATCTAATTCCTCAGCTCC...  \n3443  AGGGTTGTCTGGATGGGCAGGAAGAGCAGCGGGGGAGAAAGGGCTG...  \n\n[3444 rows x 5 columns]>"
     },
     "execution_count": 27,
     "metadata": {},
     "output_type": "execute_result"
    }
   ],
   "source": [
    "df = pd.merge(df1,df2,how='inner',on='Gene_ID')\n",
    "df_lnc = df[df['RNA_category']=='lncRNA']\n",
    "df_lnc = df_lnc.drop_duplicates(subset=['Gene_ID'], keep=\"first\")\n",
    "df_lnc=df_lnc.reset_index(drop=True)\n",
    "df_lnc.info"
   ]
  },
  {
   "cell_type": "code",
   "execution_count": 28,
   "metadata": {
    "ExecuteTime": {
     "end_time": "2024-10-08T21:41:49.858174Z",
     "start_time": "2024-10-08T21:41:49.844235Z"
    }
   },
   "outputs": [
    {
     "data": {
      "text/plain": "SubCellular_Localization\nExosome                  2442\nChromatin                 356\nNucleus                   225\nCytoplasm                 111\nCytosol                   105\nNucleoplasm                99\nNucleolus                  70\nMembrane                   25\nInsoluble cytoplasm         6\nNuclear                     2\nEndoplasmic reticulum       1\nMicrosome                   1\nSoma                        1\nName: count, dtype: int64"
     },
     "execution_count": 28,
     "metadata": {},
     "output_type": "execute_result"
    }
   ],
   "source": [
    "df_lnc['SubCellular_Localization'].value_counts()"
   ]
  },
  {
   "cell_type": "markdown",
   "metadata": {
    "collapsed": false
   },
   "source": [
    "generate fasta type"
   ]
  },
  {
   "cell_type": "code",
   "execution_count": 29,
   "metadata": {
    "ExecuteTime": {
     "end_time": "2024-10-08T21:41:50.012406Z",
     "start_time": "2024-10-08T21:41:49.861784Z"
    }
   },
   "outputs": [],
   "source": [
    "with open(\"sequences_info/lnc.fasta\",\"w\") as f:\n",
    "    for i in range(len(df_lnc.Sequence)):\n",
    "        f.write('>'+str(i)+'\\n')\n",
    "        f.write(df_lnc.Sequence.iloc[i]+'\\n')"
   ]
  },
  {
   "cell_type": "markdown",
   "metadata": {
    "collapsed": false
   },
   "source": [
    "Use CD-HIT, with cutoff 0.8"
   ]
  },
  {
   "cell_type": "code",
   "execution_count": 30,
   "metadata": {
    "ExecuteTime": {
     "end_time": "2024-10-08T21:41:50.091418Z",
     "start_time": "2024-10-08T21:41:50.014572Z"
    }
   },
   "outputs": [],
   "source": [
    "with open('cdhit_results/lnc_80') as fa:\n",
    "    lnc_index = []\n",
    "    for line in fa:\n",
    "        # 去除末尾换行符\n",
    "        line = line.replace('\\n','')\n",
    "        if line.startswith('>'):\n",
    "            # 去除 > 号\n",
    "            seq_index = line[1:]\n",
    "            lnc_index.append(int(seq_index))"
   ]
  },
  {
   "cell_type": "code",
   "execution_count": 31,
   "metadata": {
    "ExecuteTime": {
     "end_time": "2024-10-08T21:41:50.107341Z",
     "start_time": "2024-10-08T21:41:50.093666Z"
    }
   },
   "outputs": [],
   "source": [
    "df_lnc = df_lnc.iloc[lnc_index]\n",
    "df_lnc = df_lnc.reset_index(drop=True) # update index"
   ]
  },
  {
   "cell_type": "code",
   "execution_count": 32,
   "metadata": {
    "ExecuteTime": {
     "end_time": "2024-10-08T21:41:50.123513Z",
     "start_time": "2024-10-08T21:41:50.109530Z"
    }
   },
   "outputs": [],
   "source": [
    "def labelize(loc):\n",
    "    if loc == \"Exosome\":\n",
    "        return 0\n",
    "    if loc == \"Chromatin\":\n",
    "        return 1\n",
    "    if (loc == \"Cytoplasm\") or (loc == \"Insoluble cytoplasm\"):\n",
    "        return 2\n",
    "    if loc == \"Cytosol\":\n",
    "        return 3\n",
    "    if (loc == \"Nucleus\") or (loc == \"Nuclear\") or (loc == \"Nucleolus\") or (loc == \"Nucleoplasm\"):\n",
    "        return 4"
   ]
  },
  {
   "cell_type": "code",
   "execution_count": 33,
   "metadata": {
    "ExecuteTime": {
     "end_time": "2024-10-08T21:41:50.139660Z",
     "start_time": "2024-10-08T21:41:50.125767Z"
    }
   },
   "outputs": [
    {
     "data": {
      "text/plain": "SubCellular_Localization\nExosome                  2326\nChromatin                 353\nNucleus                   224\nCytoplasm                 110\nCytosol                   105\nNucleoplasm                98\nNucleolus                  70\nMembrane                   25\nInsoluble cytoplasm         6\nNuclear                     2\nEndoplasmic reticulum       1\nMicrosome                   1\nSoma                        1\nName: count, dtype: int64"
     },
     "execution_count": 33,
     "metadata": {},
     "output_type": "execute_result"
    }
   ],
   "source": [
    "df_lnc['SubCellular_Localization'].value_counts()"
   ]
  },
  {
   "cell_type": "code",
   "execution_count": 34,
   "metadata": {
    "ExecuteTime": {
     "end_time": "2024-10-08T21:41:50.166237Z",
     "start_time": "2024-10-08T21:41:50.141907Z"
    }
   },
   "outputs": [
    {
     "data": {
      "text/plain": "SubCellular_Localization\nExosome                2326\nChromatin               353\nNucleus                 224\nCytoplasm               110\nCytosol                 105\nNucleoplasm              98\nNucleolus                70\nInsoluble cytoplasm       6\nNuclear                   2\nName: count, dtype: int64"
     },
     "execution_count": 34,
     "metadata": {},
     "output_type": "execute_result"
    }
   ],
   "source": [
    "df_lnc=df_lnc[df_lnc['SubCellular_Localization'].isin(['Exosome','Nucleus','Cytosol','Chromatin','Cytoplasm','Nucleoplasm', 'Nucleolus','Nuclear','Insoluble cytoplasm'])]\n",
    "df_lnc['SubCellular_Localization'].value_counts()"
   ]
  },
  {
   "cell_type": "code",
   "execution_count": 35,
   "metadata": {
    "ExecuteTime": {
     "end_time": "2024-10-08T21:41:50.182191Z",
     "start_time": "2024-10-08T21:41:50.168594Z"
    }
   },
   "outputs": [],
   "source": [
    "df_lnc.drop(['Gene_ID','RNA_category','Species'], axis=1)\n",
    "order=['Sequence','SubCellular_Localization']\n",
    "df_lnc=df_lnc[order].reset_index(drop=True)"
   ]
  },
  {
   "cell_type": "code",
   "execution_count": 36,
   "metadata": {
    "ExecuteTime": {
     "end_time": "2024-10-08T21:41:50.261986Z",
     "start_time": "2024-10-08T21:41:50.185563Z"
    }
   },
   "outputs": [],
   "source": [
    "df_lnc['SubCellular_Localization']=df_lnc.apply(lambda x: labelize(x.SubCellular_Localization),axis=1)\n",
    "df_lnc.columns=['sequence','label']\n"
   ]
  },
  {
   "cell_type": "code",
   "execution_count": 37,
   "metadata": {
    "collapsed": false,
    "ExecuteTime": {
     "end_time": "2024-10-08T21:41:50.283268Z",
     "start_time": "2024-10-08T21:41:50.264263Z"
    }
   },
   "outputs": [
    {
     "data": {
      "text/plain": "label\n0    2326\n4     394\n1     353\n2     116\n3     105\nName: count, dtype: int64"
     },
     "execution_count": 37,
     "metadata": {},
     "output_type": "execute_result"
    }
   ],
   "source": [
    "df_lnc['label'].value_counts()"
   ]
  },
  {
   "cell_type": "code",
   "execution_count": 38,
   "metadata": {
    "collapsed": false,
    "ExecuteTime": {
     "end_time": "2024-10-08T21:41:50.314254Z",
     "start_time": "2024-10-08T21:41:50.289995Z"
    }
   },
   "outputs": [
    {
     "name": "stdout",
     "output_type": "stream",
     "text": [
      "count     3294.000000\n",
      "mean      1917.693078\n",
      "std       2368.071184\n",
      "min         61.000000\n",
      "25%        768.250000\n",
      "50%       1540.000000\n",
      "75%       2445.750000\n",
      "max      91671.000000\n",
      "Name: sequence_length, dtype: float64\n"
     ]
    }
   ],
   "source": [
    "df_lnc['sequence_length'] = df_lnc['sequence'].str.len()\n",
    "print(df_lnc['sequence_length'].describe())"
   ]
  },
  {
   "cell_type": "code",
   "execution_count": 39,
   "metadata": {
    "collapsed": false,
    "ExecuteTime": {
     "end_time": "2024-10-08T21:41:50.360043Z",
     "start_time": "2024-10-08T21:41:50.317646Z"
    }
   },
   "outputs": [
    {
     "data": {
      "text/plain": "                                               sequence  label\n0     ACAACCTTAACCAAACCATTTACTCAAATAAAGTATAGGCGATAGA...      0\n1     ATGCTCGGGAGCGTGGTTGAGCGGCTGGCGCGGTTGTCCTGGAGCA...      4\n2     AGATTAACCATCCCAGTCCTTCTGTCAGTCTCCGATGCCATCATGC...      3\n3     GGGAAAGTCGAAAACTACGGGCGGCGACGGCTTCTCGGAAGTAATT...      3\n4     GGCGCGCACCCGGGACAGTTTCCAGTCGGCTTCTCCGTGACCTTCC...      4\n...                                                 ...    ...\n3289  CGCTCAAGAGAGCAAGATGTTCTCGTGTTGCTTCTCCACTTTGAGA...      0\n3290  TGATCTGAAAGGAATGGAAGCACAAAATGATGAATAAGGTATTTTT...      0\n3291  GAAAACGAAGCCCCCTCCTGTATTGACAGCTGGGAATTGTGGAGTC...      0\n3292  AATCATCTCATCTCAGATGCCTGGCAACATCTAATTCCTCAGCTCC...      0\n3293  AGGGTTGTCTGGATGGGCAGGAAGAGCAGCGGGGGAGAAAGGGCTG...      0\n\n[3277 rows x 2 columns]",
      "text/html": "<div>\n<style scoped>\n    .dataframe tbody tr th:only-of-type {\n        vertical-align: middle;\n    }\n\n    .dataframe tbody tr th {\n        vertical-align: top;\n    }\n\n    .dataframe thead th {\n        text-align: right;\n    }\n</style>\n<table border=\"1\" class=\"dataframe\">\n  <thead>\n    <tr style=\"text-align: right;\">\n      <th></th>\n      <th>sequence</th>\n      <th>label</th>\n    </tr>\n  </thead>\n  <tbody>\n    <tr>\n      <th>0</th>\n      <td>ACAACCTTAACCAAACCATTTACTCAAATAAAGTATAGGCGATAGA...</td>\n      <td>0</td>\n    </tr>\n    <tr>\n      <th>1</th>\n      <td>ATGCTCGGGAGCGTGGTTGAGCGGCTGGCGCGGTTGTCCTGGAGCA...</td>\n      <td>4</td>\n    </tr>\n    <tr>\n      <th>2</th>\n      <td>AGATTAACCATCCCAGTCCTTCTGTCAGTCTCCGATGCCATCATGC...</td>\n      <td>3</td>\n    </tr>\n    <tr>\n      <th>3</th>\n      <td>GGGAAAGTCGAAAACTACGGGCGGCGACGGCTTCTCGGAAGTAATT...</td>\n      <td>3</td>\n    </tr>\n    <tr>\n      <th>4</th>\n      <td>GGCGCGCACCCGGGACAGTTTCCAGTCGGCTTCTCCGTGACCTTCC...</td>\n      <td>4</td>\n    </tr>\n    <tr>\n      <th>...</th>\n      <td>...</td>\n      <td>...</td>\n    </tr>\n    <tr>\n      <th>3289</th>\n      <td>CGCTCAAGAGAGCAAGATGTTCTCGTGTTGCTTCTCCACTTTGAGA...</td>\n      <td>0</td>\n    </tr>\n    <tr>\n      <th>3290</th>\n      <td>TGATCTGAAAGGAATGGAAGCACAAAATGATGAATAAGGTATTTTT...</td>\n      <td>0</td>\n    </tr>\n    <tr>\n      <th>3291</th>\n      <td>GAAAACGAAGCCCCCTCCTGTATTGACAGCTGGGAATTGTGGAGTC...</td>\n      <td>0</td>\n    </tr>\n    <tr>\n      <th>3292</th>\n      <td>AATCATCTCATCTCAGATGCCTGGCAACATCTAATTCCTCAGCTCC...</td>\n      <td>0</td>\n    </tr>\n    <tr>\n      <th>3293</th>\n      <td>AGGGTTGTCTGGATGGGCAGGAAGAGCAGCGGGGGAGAAAGGGCTG...</td>\n      <td>0</td>\n    </tr>\n  </tbody>\n</table>\n<p>3277 rows × 2 columns</p>\n</div>"
     },
     "execution_count": 39,
     "metadata": {},
     "output_type": "execute_result"
    }
   ],
   "source": [
    "df_filtered = df_lnc[df_lnc['sequence_length'] <= 10000]\n",
    "df_final = df_filtered.drop(columns='sequence_length')\n",
    "df_final['label'].value_counts()\n",
    "df_final"
   ]
  },
  {
   "cell_type": "code",
   "execution_count": 43,
   "metadata": {
    "collapsed": false,
    "ExecuteTime": {
     "end_time": "2024-10-08T21:44:08.402130Z",
     "start_time": "2024-10-08T21:44:08.205469Z"
    }
   },
   "outputs": [],
   "source": [
    "df_final.to_csv('../dataset/dataset_lnc.txt',sep='\\t',index=False)"
   ]
  }
 ],
 "metadata": {
  "kernelspec": {
   "display_name": "Python 3 (ipykernel)",
   "language": "python",
   "name": "python3"
  },
  "language_info": {
   "codemirror_mode": {
    "name": "ipython",
    "version": 3
   },
   "file_extension": ".py",
   "mimetype": "text/x-python",
   "name": "python",
   "nbconvert_exporter": "python",
   "pygments_lexer": "ipython3",
   "version": "3.8.18"
  },
  "vscode": {
   "interpreter": {
    "hash": "edf26510cc58b32c002897062fe3f89ffd2c740fea7d7be2a263f54d749e1084"
   }
  }
 },
 "nbformat": 4,
 "nbformat_minor": 2
}
